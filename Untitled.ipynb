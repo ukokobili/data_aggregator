{
 "cells": [
  {
   "cell_type": "code",
   "execution_count": 1,
   "id": "5fa0d960-436b-46d9-b37e-b9a451df5271",
   "metadata": {},
   "outputs": [],
   "source": [
    "import pandas as pd\n",
    "from datetime import datetime"
   ]
  },
  {
   "cell_type": "code",
   "execution_count": 2,
   "id": "db915581-fb2a-4a71-ba6f-fdebd7c0a9da",
   "metadata": {},
   "outputs": [],
   "source": [
    "df =pd.read_csv('sample.csv')"
   ]
  },
  {
   "cell_type": "code",
   "execution_count": 3,
   "id": "d3302b61-c1fb-4e17-bba1-00c01db2611b",
   "metadata": {},
   "outputs": [
    {
     "data": {
      "text/plain": [
       "datetime.datetime(2024, 6, 14, 8, 36, 6, 647895)"
      ]
     },
     "execution_count": 3,
     "metadata": {},
     "output_type": "execute_result"
    }
   ],
   "source": [
    "datetime.now()"
   ]
  },
  {
   "cell_type": "code",
   "execution_count": 4,
   "id": "d1f7ab7d-1cd3-4cbb-8126-9dadcbe318f3",
   "metadata": {
    "scrolled": true
   },
   "outputs": [
    {
     "data": {
      "text/plain": [
       "id                               object\n",
       "name                             object\n",
       "year_established                float64\n",
       "country                          object\n",
       "description                      object\n",
       "url                              object\n",
       "has_trading_incentive            object\n",
       "trust_score                     float64\n",
       "trust_score_rank                float64\n",
       "trade_vol_24h_btc               float64\n",
       "trade_vol_24h_btc_normalized    float64\n",
       "trade_vol_24h_usd_normalized    float64\n",
       "trade_vol_24h_usd               float64\n",
       "age_of_exchange                 float64\n",
       "ingested_at                      object\n",
       "dtype: object"
      ]
     },
     "execution_count": 4,
     "metadata": {},
     "output_type": "execute_result"
    }
   ],
   "source": [
    "df.dtypes"
   ]
  },
  {
   "cell_type": "code",
   "execution_count": 6,
   "id": "1603fa99-b860-4b7b-abd5-828291a4d168",
   "metadata": {},
   "outputs": [
    {
     "data": {
      "text/html": [
       "<div>\n",
       "<style scoped>\n",
       "    .dataframe tbody tr th:only-of-type {\n",
       "        vertical-align: middle;\n",
       "    }\n",
       "\n",
       "    .dataframe tbody tr th {\n",
       "        vertical-align: top;\n",
       "    }\n",
       "\n",
       "    .dataframe thead th {\n",
       "        text-align: right;\n",
       "    }\n",
       "</style>\n",
       "<table border=\"1\" class=\"dataframe\">\n",
       "  <thead>\n",
       "    <tr style=\"text-align: right;\">\n",
       "      <th></th>\n",
       "      <th>id</th>\n",
       "      <th>name</th>\n",
       "      <th>year_established</th>\n",
       "      <th>country</th>\n",
       "      <th>description</th>\n",
       "      <th>url</th>\n",
       "      <th>has_trading_incentive</th>\n",
       "      <th>trust_score</th>\n",
       "      <th>trust_score_rank</th>\n",
       "      <th>trade_vol_24h_btc</th>\n",
       "      <th>trade_vol_24h_btc_normalized</th>\n",
       "      <th>trade_vol_24h_usd_normalized</th>\n",
       "      <th>trade_vol_24h_usd</th>\n",
       "      <th>age_of_exchange</th>\n",
       "      <th>ingested_at</th>\n",
       "    </tr>\n",
       "  </thead>\n",
       "  <tbody>\n",
       "    <tr>\n",
       "      <th>0</th>\n",
       "      <td>bybit_spot</td>\n",
       "      <td>Bybit</td>\n",
       "      <td>2018.0</td>\n",
       "      <td>British Virgin Islands</td>\n",
       "      <td>Bybit is a cryptocurrency exchange that offers...</td>\n",
       "      <td>https://www.bybit.com</td>\n",
       "      <td>False</td>\n",
       "      <td>10.0</td>\n",
       "      <td>1.0</td>\n",
       "      <td>69051.113160</td>\n",
       "      <td>44555.408320</td>\n",
       "      <td>2.982175e+09</td>\n",
       "      <td>4.621717e+09</td>\n",
       "      <td>6.0</td>\n",
       "      <td>2024-06-14 08:34:58.428855</td>\n",
       "    </tr>\n",
       "    <tr>\n",
       "      <th>1</th>\n",
       "      <td>gdax</td>\n",
       "      <td>Coinbase Exchange</td>\n",
       "      <td>2012.0</td>\n",
       "      <td>United States</td>\n",
       "      <td>NaN</td>\n",
       "      <td>https://www.coinbase.com/</td>\n",
       "      <td>False</td>\n",
       "      <td>10.0</td>\n",
       "      <td>2.0</td>\n",
       "      <td>32189.245381</td>\n",
       "      <td>32189.245381</td>\n",
       "      <td>2.154485e+09</td>\n",
       "      <td>2.154485e+09</td>\n",
       "      <td>12.0</td>\n",
       "      <td>2024-06-14 08:34:58.428855</td>\n",
       "    </tr>\n",
       "    <tr>\n",
       "      <th>2</th>\n",
       "      <td>okex</td>\n",
       "      <td>OKX</td>\n",
       "      <td>2017.0</td>\n",
       "      <td>Seychelles</td>\n",
       "      <td>NaN</td>\n",
       "      <td>https://www.okx.com</td>\n",
       "      <td>False</td>\n",
       "      <td>10.0</td>\n",
       "      <td>3.0</td>\n",
       "      <td>31836.100303</td>\n",
       "      <td>31836.100303</td>\n",
       "      <td>2.130848e+09</td>\n",
       "      <td>2.130848e+09</td>\n",
       "      <td>7.0</td>\n",
       "      <td>2024-06-14 08:34:58.428855</td>\n",
       "    </tr>\n",
       "    <tr>\n",
       "      <th>3</th>\n",
       "      <td>kucoin</td>\n",
       "      <td>KuCoin</td>\n",
       "      <td>2017.0</td>\n",
       "      <td>Seychelles</td>\n",
       "      <td>Launched in September 2017, KuCoin is a global...</td>\n",
       "      <td>https://www.kucoin.com/</td>\n",
       "      <td>False</td>\n",
       "      <td>10.0</td>\n",
       "      <td>4.0</td>\n",
       "      <td>9832.625354</td>\n",
       "      <td>9832.625354</td>\n",
       "      <td>6.581156e+08</td>\n",
       "      <td>6.581156e+08</td>\n",
       "      <td>7.0</td>\n",
       "      <td>2024-06-14 08:34:58.428855</td>\n",
       "    </tr>\n",
       "    <tr>\n",
       "      <th>4</th>\n",
       "      <td>kraken</td>\n",
       "      <td>Kraken</td>\n",
       "      <td>2011.0</td>\n",
       "      <td>United States</td>\n",
       "      <td>NaN</td>\n",
       "      <td>https://www.kraken.com/</td>\n",
       "      <td>False</td>\n",
       "      <td>10.0</td>\n",
       "      <td>5.0</td>\n",
       "      <td>9557.453873</td>\n",
       "      <td>9557.453873</td>\n",
       "      <td>6.396979e+08</td>\n",
       "      <td>6.396979e+08</td>\n",
       "      <td>13.0</td>\n",
       "      <td>2024-06-14 08:34:58.428855</td>\n",
       "    </tr>\n",
       "  </tbody>\n",
       "</table>\n",
       "</div>"
      ],
      "text/plain": [
       "           id               name  year_established                 country  \\\n",
       "0  bybit_spot              Bybit            2018.0  British Virgin Islands   \n",
       "1        gdax  Coinbase Exchange            2012.0           United States   \n",
       "2        okex                OKX            2017.0              Seychelles   \n",
       "3      kucoin             KuCoin            2017.0              Seychelles   \n",
       "4      kraken             Kraken            2011.0           United States   \n",
       "\n",
       "                                         description  \\\n",
       "0  Bybit is a cryptocurrency exchange that offers...   \n",
       "1                                                NaN   \n",
       "2                                                NaN   \n",
       "3  Launched in September 2017, KuCoin is a global...   \n",
       "4                                                NaN   \n",
       "\n",
       "                         url has_trading_incentive  trust_score  \\\n",
       "0      https://www.bybit.com                 False         10.0   \n",
       "1  https://www.coinbase.com/                 False         10.0   \n",
       "2        https://www.okx.com                 False         10.0   \n",
       "3    https://www.kucoin.com/                 False         10.0   \n",
       "4    https://www.kraken.com/                 False         10.0   \n",
       "\n",
       "   trust_score_rank  trade_vol_24h_btc  trade_vol_24h_btc_normalized  \\\n",
       "0               1.0       69051.113160                  44555.408320   \n",
       "1               2.0       32189.245381                  32189.245381   \n",
       "2               3.0       31836.100303                  31836.100303   \n",
       "3               4.0        9832.625354                   9832.625354   \n",
       "4               5.0        9557.453873                   9557.453873   \n",
       "\n",
       "   trade_vol_24h_usd_normalized  trade_vol_24h_usd  age_of_exchange  \\\n",
       "0                  2.982175e+09       4.621717e+09              6.0   \n",
       "1                  2.154485e+09       2.154485e+09             12.0   \n",
       "2                  2.130848e+09       2.130848e+09              7.0   \n",
       "3                  6.581156e+08       6.581156e+08              7.0   \n",
       "4                  6.396979e+08       6.396979e+08             13.0   \n",
       "\n",
       "                  ingested_at  \n",
       "0  2024-06-14 08:34:58.428855  \n",
       "1  2024-06-14 08:34:58.428855  \n",
       "2  2024-06-14 08:34:58.428855  \n",
       "3  2024-06-14 08:34:58.428855  \n",
       "4  2024-06-14 08:34:58.428855  "
      ]
     },
     "execution_count": 6,
     "metadata": {},
     "output_type": "execute_result"
    }
   ],
   "source": [
    "df.head()"
   ]
  },
  {
   "cell_type": "code",
   "execution_count": 7,
   "id": "b0cc3807-0a59-4a89-ae5d-7f8d2095a820",
   "metadata": {},
   "outputs": [
    {
     "data": {
      "text/plain": [
       "0      False\n",
       "1      False\n",
       "2      False\n",
       "3      False\n",
       "4      False\n",
       "       ...  \n",
       "871    False\n",
       "872    False\n",
       "873    False\n",
       "874    False\n",
       "875    False\n",
       "Name: has_trading_incentive, Length: 876, dtype: object"
      ]
     },
     "execution_count": 7,
     "metadata": {},
     "output_type": "execute_result"
    }
   ],
   "source": [
    "df['has_trading_incentive']"
   ]
  },
  {
   "cell_type": "code",
   "execution_count": null,
   "id": "12cdda9b-f967-4b05-96d5-1d93a6d06be2",
   "metadata": {},
   "outputs": [],
   "source": [
    "import requests\n",
    "def btc_usd_current_price() -> float:\n",
    "    \"\"\"\n",
    "    Send a GET request to the API endpoint\n",
    "    Extract the rate in USD from the response\n",
    "    Convert to float, round to 2 decimal places, and return\n",
    "    \"\"\"\n",
    "    response = requests.get('https://api.coincap.io/v2/rates/bitcoin')\n",
    "    return round(float(response.json()['data']['rateUsd']), 2)"
   ]
  },
  {
   "cell_type": "code",
   "execution_count": null,
   "id": "69e3b7e0-4206-41aa-aa3e-a210dacf8d5e",
   "metadata": {},
   "outputs": [],
   "source": [
    "btc_to_usd_rate = btc_usd_current_price()"
   ]
  },
  {
   "cell_type": "code",
   "execution_count": null,
   "id": "dbca445d-fd06-4509-9cf4-7d1f5d2ba418",
   "metadata": {},
   "outputs": [],
   "source": [
    "from datetime import datetime\n",
    "def data_transformation(df: pd.DataFrame, btc_to_usd_rate: float ) -> pd.DataFrame:\n",
    "    \"\"\"\n",
    "    Convert and format the trade volume in BTC to USD.\n",
    "    Calculate the age of each exchange based on the current year and year established.\n",
    "\n",
    "    Args:\n",
    "        df (pd.DataFrame): The DataFrame containing the trade volume data\n",
    "        and year established.\n",
    "        btc_to_usd_rate (float): The current BTC to USD exchange rate.\n",
    "        \n",
    "\n",
    "    Returns:\n",
    "        pd.DataFrame: The DataFrame with additional the columns.\n",
    "    \"\"\"\n",
    "    # Convert the trade volume to USD\n",
    "    df['trade_volume_24h_usd_normalized'] = df['trade_volume_24h_btc_normalized'] * btc_to_usd_rate\n",
    "    df['trade_volume_24h_usd'] = df['trade_volume_24h_btc'] * btc_to_usd_rate\n",
    "    \n",
    "    # Format the USD values for readability\n",
    "    df['trade_volume_24h_usd'] = df['trade_volume_24h_usd'].apply(lambda x: f\"{x:.2f}\")\n",
    "    df['trade_volume_24h_usd_normalized'] = df['trade_volume_24h_usd_normalized'].apply(lambda x: f\"{x:.2f}\")\n",
    "\n",
    "    df['age_of_exchange'] = datetime.now().year - df['year_established']\n",
    "    \n",
    "    # Print the DataFrame\n",
    "    return df[['id', 'name', 'age_of_exchange', 'trade_volume_24h_btc', 'trade_volume_24h_btc_normalized', 'trade_volume_24h_usd', 'trade_volume_24h_usd_normalized']]\n",
    "    "
   ]
  },
  {
   "cell_type": "code",
   "execution_count": null,
   "id": "4b8deb1f-18fc-4507-8169-d8223b6b9182",
   "metadata": {},
   "outputs": [],
   "source": [
    "data_transformation(df, btc_to_usd_rate)"
   ]
  },
  {
   "cell_type": "code",
   "execution_count": null,
   "id": "1e82bc16-9e05-4ea8-bb09-aeba410d4518",
   "metadata": {},
   "outputs": [],
   "source": [
    "df['trade_volume_24h_usd_normalized'] = round((df['trade_volume_24h_btc_normalized'] * btc_usd_current_price()), 2)"
   ]
  },
  {
   "cell_type": "code",
   "execution_count": null,
   "id": "c3f714f4-655b-4887-a9d3-d03f7ce2a553",
   "metadata": {},
   "outputs": [],
   "source": [
    "df['trade_volume_24h_usd_normalized'].head(5)"
   ]
  },
  {
   "cell_type": "code",
   "execution_count": null,
   "id": "98d963b0-cb15-40bf-9855-dee804e44045",
   "metadata": {},
   "outputs": [],
   "source": []
  }
 ],
 "metadata": {
  "kernelspec": {
   "display_name": "Python 3 (ipykernel)",
   "language": "python",
   "name": "python3"
  },
  "language_info": {
   "codemirror_mode": {
    "name": "ipython",
    "version": 3
   },
   "file_extension": ".py",
   "mimetype": "text/x-python",
   "name": "python",
   "nbconvert_exporter": "python",
   "pygments_lexer": "ipython3",
   "version": "3.11.7"
  }
 },
 "nbformat": 4,
 "nbformat_minor": 5
}
