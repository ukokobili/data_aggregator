{
 "cells": [
  {
   "cell_type": "code",
   "execution_count": 18,
   "id": "5fa0d960-436b-46d9-b37e-b9a451df5271",
   "metadata": {},
   "outputs": [],
   "source": [
    "import pandas as pd"
   ]
  },
  {
   "cell_type": "code",
   "execution_count": 19,
   "id": "db915581-fb2a-4a71-ba6f-fdebd7c0a9da",
   "metadata": {},
   "outputs": [],
   "source": [
    "df =pd.read_csv('sample.csv')"
   ]
  },
  {
   "cell_type": "code",
   "execution_count": 39,
   "id": "1603fa99-b860-4b7b-abd5-828291a4d168",
   "metadata": {},
   "outputs": [
    {
     "data": {
      "text/plain": [
       "0      2018.0\n",
       "1      2017.0\n",
       "2      2012.0\n",
       "3      2013.0\n",
       "4      2017.0\n",
       "        ...  \n",
       "876       NaN\n",
       "877       NaN\n",
       "878       NaN\n",
       "879       NaN\n",
       "880    2023.0\n",
       "Name: year_established, Length: 881, dtype: float64"
      ]
     },
     "execution_count": 39,
     "metadata": {},
     "output_type": "execute_result"
    }
   ],
   "source": [
    "df.year_established"
   ]
  },
  {
   "cell_type": "code",
   "execution_count": null,
   "id": "b0cc3807-0a59-4a89-ae5d-7f8d2095a820",
   "metadata": {},
   "outputs": [],
   "source": [
    "df[[, 'trade_volume_24h_btc', 'trade_volume_24h_btc_normalized']]"
   ]
  },
  {
   "cell_type": "code",
   "execution_count": 6,
   "id": "12cdda9b-f967-4b05-96d5-1d93a6d06be2",
   "metadata": {},
   "outputs": [],
   "source": [
    "import requests\n",
    "def btc_usd_current_price() -> float:\n",
    "    \"\"\"\n",
    "    Send a GET request to the API endpoint\n",
    "    Extract the rate in USD from the response\n",
    "    Convert to float, round to 2 decimal places, and return\n",
    "    \"\"\"\n",
    "    response = requests.get('https://api.coincap.io/v2/rates/bitcoin')\n",
    "    return round(float(response.json()['data']['rateUsd']), 2)"
   ]
  },
  {
   "cell_type": "code",
   "execution_count": 28,
   "id": "69e3b7e0-4206-41aa-aa3e-a210dacf8d5e",
   "metadata": {},
   "outputs": [],
   "source": [
    "btc_to_usd_rate = btc_usd_current_price()"
   ]
  },
  {
   "cell_type": "code",
   "execution_count": 47,
   "id": "dbca445d-fd06-4509-9cf4-7d1f5d2ba418",
   "metadata": {},
   "outputs": [],
   "source": [
    "from datetime import datetime\n",
    "def data_transformation(df: pd.DataFrame, btc_to_usd_rate: float ) -> pd.DataFrame:\n",
    "    \"\"\"\n",
    "    Convert and format the trade volume in BTC to USD.\n",
    "    Calculate the age of each exchange based on the current year and year established.\n",
    "\n",
    "    Args:\n",
    "        df (pd.DataFrame): The DataFrame containing the trade volume data\n",
    "        and year established.\n",
    "        btc_to_usd_rate (float): The current BTC to USD exchange rate.\n",
    "        \n",
    "\n",
    "    Returns:\n",
    "        pd.DataFrame: The DataFrame with additional the columns.\n",
    "    \"\"\"\n",
    "    # Convert the trade volume to USD\n",
    "    df['trade_volume_24h_usd_normalized'] = df['trade_volume_24h_btc_normalized'] * btc_to_usd_rate\n",
    "    df['trade_volume_24h_usd'] = df['trade_volume_24h_btc'] * btc_to_usd_rate\n",
    "    \n",
    "    # Format the USD values for readability\n",
    "    df['trade_volume_24h_usd'] = df['trade_volume_24h_usd'].apply(lambda x: f\"{x:.2f}\")\n",
    "    df['trade_volume_24h_usd_normalized'] = df['trade_volume_24h_usd_normalized'].apply(lambda x: f\"{x:.2f}\")\n",
    "\n",
    "    df['age_of_exchange'] = datetime.now().year - df['year_established']\n",
    "    \n",
    "    # Print the DataFrame\n",
    "    return df[['id', 'name', 'age_of_exchange', 'trade_volume_24h_btc', 'trade_volume_24h_btc_normalized', 'trade_volume_24h_usd', 'trade_volume_24h_usd_normalized']]\n",
    "    "
   ]
  },
  {
   "cell_type": "code",
   "execution_count": 48,
   "id": "4b8deb1f-18fc-4507-8169-d8223b6b9182",
   "metadata": {},
   "outputs": [
    {
     "data": {
      "text/html": [
       "<div>\n",
       "<style scoped>\n",
       "    .dataframe tbody tr th:only-of-type {\n",
       "        vertical-align: middle;\n",
       "    }\n",
       "\n",
       "    .dataframe tbody tr th {\n",
       "        vertical-align: top;\n",
       "    }\n",
       "\n",
       "    .dataframe thead th {\n",
       "        text-align: right;\n",
       "    }\n",
       "</style>\n",
       "<table border=\"1\" class=\"dataframe\">\n",
       "  <thead>\n",
       "    <tr style=\"text-align: right;\">\n",
       "      <th></th>\n",
       "      <th>id</th>\n",
       "      <th>name</th>\n",
       "      <th>age_of_exchange</th>\n",
       "      <th>trade_volume_24h_btc</th>\n",
       "      <th>trade_volume_24h_btc_normalized</th>\n",
       "      <th>trade_volume_24h_usd</th>\n",
       "      <th>trade_volume_24h_usd_normalized</th>\n",
       "    </tr>\n",
       "  </thead>\n",
       "  <tbody>\n",
       "    <tr>\n",
       "      <th>0</th>\n",
       "      <td>bybit_spot</td>\n",
       "      <td>Bybit</td>\n",
       "      <td>6.0</td>\n",
       "      <td>84827.509265</td>\n",
       "      <td>60562.525627</td>\n",
       "      <td>5736098100.57</td>\n",
       "      <td>4095282193.57</td>\n",
       "    </tr>\n",
       "    <tr>\n",
       "      <th>1</th>\n",
       "      <td>okex</td>\n",
       "      <td>OKX</td>\n",
       "      <td>7.0</td>\n",
       "      <td>47588.879220</td>\n",
       "      <td>47152.554675</td>\n",
       "      <td>3217994752.77</td>\n",
       "      <td>3188490168.46</td>\n",
       "    </tr>\n",
       "    <tr>\n",
       "      <th>2</th>\n",
       "      <td>gdax</td>\n",
       "      <td>Coinbase Exchange</td>\n",
       "      <td>12.0</td>\n",
       "      <td>42424.848705</td>\n",
       "      <td>42424.848705</td>\n",
       "      <td>2868799239.55</td>\n",
       "      <td>2868799239.55</td>\n",
       "    </tr>\n",
       "    <tr>\n",
       "      <th>3</th>\n",
       "      <td>huobi</td>\n",
       "      <td>HTX</td>\n",
       "      <td>11.0</td>\n",
       "      <td>41837.327031</td>\n",
       "      <td>34184.930165</td>\n",
       "      <td>2829070595.08</td>\n",
       "      <td>2311609932.77</td>\n",
       "    </tr>\n",
       "    <tr>\n",
       "      <th>4</th>\n",
       "      <td>kucoin</td>\n",
       "      <td>KuCoin</td>\n",
       "      <td>7.0</td>\n",
       "      <td>13591.503706</td>\n",
       "      <td>13591.503706</td>\n",
       "      <td>919067402.41</td>\n",
       "      <td>919067402.41</td>\n",
       "    </tr>\n",
       "    <tr>\n",
       "      <th>...</th>\n",
       "      <td>...</td>\n",
       "      <td>...</td>\n",
       "      <td>...</td>\n",
       "      <td>...</td>\n",
       "      <td>...</td>\n",
       "      <td>...</td>\n",
       "      <td>...</td>\n",
       "    </tr>\n",
       "    <tr>\n",
       "      <th>876</th>\n",
       "      <td>dackieswap-v3-mode</td>\n",
       "      <td>DackieSwap V3 (Mode)</td>\n",
       "      <td>NaN</td>\n",
       "      <td>0.003072</td>\n",
       "      <td>0.000000</td>\n",
       "      <td>207.72</td>\n",
       "      <td>0.00</td>\n",
       "    </tr>\n",
       "    <tr>\n",
       "      <th>877</th>\n",
       "      <td>sobal</td>\n",
       "      <td>Sobal (Neon EVM)</td>\n",
       "      <td>NaN</td>\n",
       "      <td>0.027684</td>\n",
       "      <td>0.000000</td>\n",
       "      <td>1872.03</td>\n",
       "      <td>0.00</td>\n",
       "    </tr>\n",
       "    <tr>\n",
       "      <th>878</th>\n",
       "      <td>defi_plaza</td>\n",
       "      <td>DefiPlaza</td>\n",
       "      <td>NaN</td>\n",
       "      <td>0.068286</td>\n",
       "      <td>0.000000</td>\n",
       "      <td>4617.56</td>\n",
       "      <td>0.00</td>\n",
       "    </tr>\n",
       "    <tr>\n",
       "      <th>879</th>\n",
       "      <td>binance_dex_mini</td>\n",
       "      <td>Binance DEX (Mini)</td>\n",
       "      <td>NaN</td>\n",
       "      <td>6.909204</td>\n",
       "      <td>0.000000</td>\n",
       "      <td>467205.41</td>\n",
       "      <td>0.00</td>\n",
       "    </tr>\n",
       "    <tr>\n",
       "      <th>880</th>\n",
       "      <td>myswap-cl</td>\n",
       "      <td>mySwap-CL</td>\n",
       "      <td>1.0</td>\n",
       "      <td>4.351718</td>\n",
       "      <td>0.000000</td>\n",
       "      <td>294266.32</td>\n",
       "      <td>0.00</td>\n",
       "    </tr>\n",
       "  </tbody>\n",
       "</table>\n",
       "<p>881 rows × 7 columns</p>\n",
       "</div>"
      ],
      "text/plain": [
       "                     id                  name  age_of_exchange  \\\n",
       "0            bybit_spot                 Bybit              6.0   \n",
       "1                  okex                   OKX              7.0   \n",
       "2                  gdax     Coinbase Exchange             12.0   \n",
       "3                 huobi                   HTX             11.0   \n",
       "4                kucoin                KuCoin              7.0   \n",
       "..                  ...                   ...              ...   \n",
       "876  dackieswap-v3-mode  DackieSwap V3 (Mode)              NaN   \n",
       "877               sobal      Sobal (Neon EVM)              NaN   \n",
       "878          defi_plaza             DefiPlaza              NaN   \n",
       "879    binance_dex_mini    Binance DEX (Mini)              NaN   \n",
       "880           myswap-cl             mySwap-CL              1.0   \n",
       "\n",
       "     trade_volume_24h_btc  trade_volume_24h_btc_normalized  \\\n",
       "0            84827.509265                     60562.525627   \n",
       "1            47588.879220                     47152.554675   \n",
       "2            42424.848705                     42424.848705   \n",
       "3            41837.327031                     34184.930165   \n",
       "4            13591.503706                     13591.503706   \n",
       "..                    ...                              ...   \n",
       "876              0.003072                         0.000000   \n",
       "877              0.027684                         0.000000   \n",
       "878              0.068286                         0.000000   \n",
       "879              6.909204                         0.000000   \n",
       "880              4.351718                         0.000000   \n",
       "\n",
       "    trade_volume_24h_usd trade_volume_24h_usd_normalized  \n",
       "0          5736098100.57                   4095282193.57  \n",
       "1          3217994752.77                   3188490168.46  \n",
       "2          2868799239.55                   2868799239.55  \n",
       "3          2829070595.08                   2311609932.77  \n",
       "4           919067402.41                    919067402.41  \n",
       "..                   ...                             ...  \n",
       "876               207.72                            0.00  \n",
       "877              1872.03                            0.00  \n",
       "878              4617.56                            0.00  \n",
       "879            467205.41                            0.00  \n",
       "880            294266.32                            0.00  \n",
       "\n",
       "[881 rows x 7 columns]"
      ]
     },
     "execution_count": 48,
     "metadata": {},
     "output_type": "execute_result"
    }
   ],
   "source": [
    "data_transformation(df, btc_to_usd_rate)"
   ]
  },
  {
   "cell_type": "code",
   "execution_count": 16,
   "id": "1e82bc16-9e05-4ea8-bb09-aeba410d4518",
   "metadata": {},
   "outputs": [],
   "source": [
    "df['trade_volume_24h_usd_normalized'] = round((df['trade_volume_24h_btc_normalized'] * btc_usd_current_price()), 2)"
   ]
  },
  {
   "cell_type": "code",
   "execution_count": 17,
   "id": "c3f714f4-655b-4887-a9d3-d03f7ce2a553",
   "metadata": {},
   "outputs": [
    {
     "data": {
      "text/plain": [
       "0    4.135048e+09\n",
       "1    3.219451e+09\n",
       "2    2.896655e+09\n",
       "3    2.334056e+09\n",
       "4    9.279916e+08\n",
       "Name: trade_volume_24h_usd_normalized, dtype: float64"
      ]
     },
     "execution_count": 17,
     "metadata": {},
     "output_type": "execute_result"
    }
   ],
   "source": [
    "df['trade_volume_24h_usd_normalized'].head(5)"
   ]
  },
  {
   "cell_type": "code",
   "execution_count": null,
   "id": "98d963b0-cb15-40bf-9855-dee804e44045",
   "metadata": {},
   "outputs": [],
   "source": []
  }
 ],
 "metadata": {
  "kernelspec": {
   "display_name": "Python 3 (ipykernel)",
   "language": "python",
   "name": "python3"
  },
  "language_info": {
   "codemirror_mode": {
    "name": "ipython",
    "version": 3
   },
   "file_extension": ".py",
   "mimetype": "text/x-python",
   "name": "python",
   "nbconvert_exporter": "python",
   "pygments_lexer": "ipython3",
   "version": "3.11.7"
  }
 },
 "nbformat": 4,
 "nbformat_minor": 5
}
