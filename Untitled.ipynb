{
 "cells": [
  {
   "cell_type": "code",
   "execution_count": 18,
   "id": "5fa0d960-436b-46d9-b37e-b9a451df5271",
   "metadata": {},
   "outputs": [],
   "source": [
    "import pandas as pd"
   ]
  },
  {
   "cell_type": "code",
   "execution_count": 19,
   "id": "db915581-fb2a-4a71-ba6f-fdebd7c0a9da",
   "metadata": {},
   "outputs": [],
   "source": [
    "df =pd.read_csv('sample.csv')"
   ]
  },
  {
   "cell_type": "code",
   "execution_count": 20,
   "id": "1603fa99-b860-4b7b-abd5-828291a4d168",
   "metadata": {},
   "outputs": [
    {
     "data": {
      "text/plain": [
       "Index(['id', 'name', 'year_established', 'country', 'description', 'url',\n",
       "       'has_trading_incentive', 'trust_score', 'trust_score_rank',\n",
       "       'trade_volume_24h_btc', 'trade_volume_24h_btc_normalized'],\n",
       "      dtype='object')"
      ]
     },
     "execution_count": 20,
     "metadata": {},
     "output_type": "execute_result"
    }
   ],
   "source": [
    "df.columns"
   ]
  },
  {
   "cell_type": "code",
   "execution_count": 6,
   "id": "12cdda9b-f967-4b05-96d5-1d93a6d06be2",
   "metadata": {},
   "outputs": [],
   "source": [
    "import requests\n",
    "def btc_usd_current_price() -> float:\n",
    "    \"\"\"\n",
    "    Send a GET request to the API endpoint\n",
    "    Extract the rate in USD from the response\n",
    "    Convert to float, round to 2 decimal places, and return\n",
    "    \"\"\"\n",
    "    response = requests.get('https://api.coincap.io/v2/rates/bitcoin')\n",
    "    return round(float(response.json()['data']['rateUsd']), 2)"
   ]
  },
  {
   "cell_type": "code",
   "execution_count": 28,
   "id": "69e3b7e0-4206-41aa-aa3e-a210dacf8d5e",
   "metadata": {},
   "outputs": [],
   "source": [
    "btc_to_usd_rate = btc_usd_current_price()"
   ]
  },
  {
   "cell_type": "code",
   "execution_count": 31,
   "id": "32ee906f-1bd1-4148-874f-569c81a2b3b0",
   "metadata": {},
   "outputs": [
    {
     "name": "stdout",
     "output_type": "stream",
     "text": [
      "                     id                  name  \\\n",
      "0            bybit_spot                 Bybit   \n",
      "1                  okex                   OKX   \n",
      "2                  gdax     Coinbase Exchange   \n",
      "3                 huobi                   HTX   \n",
      "4                kucoin                KuCoin   \n",
      "..                  ...                   ...   \n",
      "876  dackieswap-v3-mode  DackieSwap V3 (Mode)   \n",
      "877               sobal      Sobal (Neon EVM)   \n",
      "878          defi_plaza             DefiPlaza   \n",
      "879    binance_dex_mini    Binance DEX (Mini)   \n",
      "880           myswap-cl             mySwap-CL   \n",
      "\n",
      "     trade_volume_24h_btc_normalized trade_volume_24h_usd  \n",
      "0                       60562.525627        4095282193.57  \n",
      "1                       47152.554675        3188490168.46  \n",
      "2                       42424.848705        2868799239.55  \n",
      "3                       34184.930165        2311609932.77  \n",
      "4                       13591.503706         919067402.41  \n",
      "..                               ...                  ...  \n",
      "876                         0.000000                 0.00  \n",
      "877                         0.000000                 0.00  \n",
      "878                         0.000000                 0.00  \n",
      "879                         0.000000                 0.00  \n",
      "880                         0.000000                 0.00  \n",
      "\n",
      "[881 rows x 4 columns]\n"
     ]
    }
   ],
   "source": [
    "# Convert the trade volume to USD\n",
    "df['trade_volume_24h_usd'] = df['trade_volume_24h_btc_normalized'] * btc_to_usd_rate\n",
    "\n",
    "# Format the USD values for readability\n",
    "df['trade_volume_24h_usd'] = df['trade_volume_24h_usd'].apply(lambda x: f\"{x:.2f}\")\n",
    "\n",
    "# Print the DataFrame\n",
    "print(df[['id', 'name', 'trade_volume_24h_btc_normalized', 'trade_volume_24h_usd']])"
   ]
  },
  {
   "cell_type": "code",
   "execution_count": 16,
   "id": "1e82bc16-9e05-4ea8-bb09-aeba410d4518",
   "metadata": {},
   "outputs": [],
   "source": [
    "df['trade_volume_24h_usd_normalized'] = round((df['trade_volume_24h_btc_normalized'] * btc_usd_current_price()), 2)"
   ]
  },
  {
   "cell_type": "code",
   "execution_count": 17,
   "id": "c3f714f4-655b-4887-a9d3-d03f7ce2a553",
   "metadata": {},
   "outputs": [
    {
     "data": {
      "text/plain": [
       "0    4.135048e+09\n",
       "1    3.219451e+09\n",
       "2    2.896655e+09\n",
       "3    2.334056e+09\n",
       "4    9.279916e+08\n",
       "Name: trade_volume_24h_usd_normalized, dtype: float64"
      ]
     },
     "execution_count": 17,
     "metadata": {},
     "output_type": "execute_result"
    }
   ],
   "source": [
    "df['trade_volume_24h_usd_normalized'].head(5)"
   ]
  },
  {
   "cell_type": "code",
   "execution_count": null,
   "id": "98d963b0-cb15-40bf-9855-dee804e44045",
   "metadata": {},
   "outputs": [],
   "source": []
  }
 ],
 "metadata": {
  "kernelspec": {
   "display_name": "Python 3 (ipykernel)",
   "language": "python",
   "name": "python3"
  },
  "language_info": {
   "codemirror_mode": {
    "name": "ipython",
    "version": 3
   },
   "file_extension": ".py",
   "mimetype": "text/x-python",
   "name": "python",
   "nbconvert_exporter": "python",
   "pygments_lexer": "ipython3",
   "version": "3.11.7"
  }
 },
 "nbformat": 4,
 "nbformat_minor": 5
}
